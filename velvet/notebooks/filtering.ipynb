{
 "cells": [
  {
   "cell_type": "code",
   "execution_count": 40,
   "metadata": {},
   "outputs": [],
   "source": [
    "import sklearn\n",
    "from sklearn.cluster import KMeans\n",
    "from sklearn.decomposition import PCA\n",
    "from sklearn.feature_extraction.text import TfidfVectorizer\n",
    "from sklearn.manifold import TSNE\n",
    "from sklearn.model_selection import KFold\n",
    "from sklearn.model_selection import train_test_split\n",
    "\n",
    "\n",
    "from sklearn.cluster import MiniBatchKMeans\n",
    "# See: https://scikit-learn.org/stable/auto_examples/cluster/plot_mini_batch_kmeans.html\n",
    "\n",
    "\n",
    "import pandas as pd\n",
    "import numpy as np\n",
    "\n",
    "import matplotlib.pyplot as plt\n",
    "import matplotlib.cm as cm"
   ]
  },
  {
   "cell_type": "code",
   "execution_count": 2,
   "metadata": {},
   "outputs": [],
   "source": [
    "df = pd.read_csv('../data/csv/jobs.csv')"
   ]
  },
  {
   "cell_type": "code",
   "execution_count": 3,
   "metadata": {},
   "outputs": [
    {
     "data": {
      "text/plain": [
       "(150669, 5)"
      ]
     },
     "execution_count": 3,
     "metadata": {},
     "output_type": "execute_result"
    }
   ],
   "source": [
    "df.shape"
   ]
  },
  {
   "cell_type": "code",
   "execution_count": 4,
   "metadata": {},
   "outputs": [
    {
     "data": {
      "text/plain": [
       "Index(['Unnamed: 0', 'title', 'company', 'location', 'description'], dtype='object')"
      ]
     },
     "execution_count": 4,
     "metadata": {},
     "output_type": "execute_result"
    }
   ],
   "source": [
    "df.columns"
   ]
  },
  {
   "cell_type": "code",
   "execution_count": 49,
   "metadata": {},
   "outputs": [],
   "source": [
    "df['company'] = df['company'].str.strip()\n",
    "df['title'] = df['title'].str.strip()\n",
    "df['location'] = df['location'].str.strip()\n",
    "df.to_csv('large_all_listgs.csv')"
   ]
  },
  {
   "cell_type": "code",
   "execution_count": 35,
   "metadata": {},
   "outputs": [
    {
     "data": {
      "text/plain": [
       "JPMorgan                            10832\n",
       "Citigroup                            7762\n",
       "Morgan Stanley                       4042\n",
       "Bank of America                      3554\n",
       "BMO Financial Group                  3382\n",
       "RBC Financial Group                  2849\n",
       "Credit Suisse                        2380\n",
       "Goldman Sachs                        1868\n",
       "Pearson                              1801\n",
       "Gannett                              1643\n",
       "Maurices                             1572\n",
       "HSBC                                 1522\n",
       "Turner Broadcasting                  1389\n",
       "Time Warner Cable                    1385\n",
       "Adidas                               1377\n",
       "TD Securities                        1369\n",
       "CBS                                  1310\n",
       "iHeartMedia                          1295\n",
       "Bloomberg                            1211\n",
       "Adidas Group                         1083\n",
       "Delhaize America                      934\n",
       "SunTrust                              929\n",
       "BBC                                   881\n",
       "Comcast                               869\n",
       "Northern Trust                        845\n",
       "Electronic Arts                       827\n",
       "BlackRock                             795\n",
       "Warner Bros. Entertainment Group      736\n",
       "Golden LivingCenters                  731\n",
       "Reynolds and Reynolds                 727\n",
       "Barclays Capital                      635\n",
       "McGraw-Hill Education                 615\n",
       "Conduent                              555\n",
       "Forever 21                            554\n",
       "Burberry                              531\n",
       "Automatic Data Processing             530\n",
       "Tiaa                                  522\n",
       "Ubisoft                               514\n",
       "Dollar Tree                           497\n",
       "Nordstrom                             490\n",
       "Name: company, dtype: int64"
      ]
     },
     "execution_count": 35,
     "metadata": {},
     "output_type": "execute_result"
    }
   ],
   "source": [
    "df['company'].value_counts()[:40]"
   ]
  },
  {
   "cell_type": "code",
   "execution_count": 42,
   "metadata": {},
   "outputs": [
    {
     "ename": "ModuleNotFoundError",
     "evalue": "No module named 'spacy'",
     "output_type": "error",
     "traceback": [
      "\u001b[0;31m---------------------------------------------------------------------------\u001b[0m",
      "\u001b[0;31mModuleNotFoundError\u001b[0m                       Traceback (most recent call last)",
      "\u001b[0;32m<ipython-input-42-5469aec04266>\u001b[0m in \u001b[0;36m<module>\u001b[0;34m\u001b[0m\n\u001b[0;32m----> 1\u001b[0;31m \u001b[0;32mimport\u001b[0m \u001b[0mspacy\u001b[0m\u001b[0;34m\u001b[0m\u001b[0;34m\u001b[0m\u001b[0m\n\u001b[0m\u001b[1;32m      2\u001b[0m \u001b[0mnlp\u001b[0m \u001b[0;34m=\u001b[0m \u001b[0mspacy\u001b[0m\u001b[0;34m.\u001b[0m\u001b[0mload\u001b[0m\u001b[0;34m(\u001b[0m\u001b[0;34m\"en_core_web_lg\"\u001b[0m\u001b[0;34m)\u001b[0m\u001b[0;34m\u001b[0m\u001b[0;34m\u001b[0m\u001b[0m\n",
      "\u001b[0;31mModuleNotFoundError\u001b[0m: No module named 'spacy'"
     ]
    }
   ],
   "source": [
    "import spacy\n",
    "nlp = spacy.load(\"en_core_web_lg\")"
   ]
  },
  {
   "cell_type": "code",
   "execution_count": 10,
   "metadata": {},
   "outputs": [],
   "source": [
    "vectorizer = TfidfVectorizer(stop_words='english', \n",
    "                             min_df=30, \n",
    "                             max_df=.5,\n",
    "                             max_features=500)"
   ]
  },
  {
   "cell_type": "code",
   "execution_count": 42,
   "metadata": {
    "collapsed": true
   },
   "outputs": [
    {
     "data": {
      "text/plain": [
       "frozenset({'a',\n",
       "           'about',\n",
       "           'above',\n",
       "           'across',\n",
       "           'after',\n",
       "           'afterwards',\n",
       "           'again',\n",
       "           'against',\n",
       "           'all',\n",
       "           'almost',\n",
       "           'alone',\n",
       "           'along',\n",
       "           'already',\n",
       "           'also',\n",
       "           'although',\n",
       "           'always',\n",
       "           'am',\n",
       "           'among',\n",
       "           'amongst',\n",
       "           'amoungst',\n",
       "           'amount',\n",
       "           'an',\n",
       "           'and',\n",
       "           'another',\n",
       "           'any',\n",
       "           'anyhow',\n",
       "           'anyone',\n",
       "           'anything',\n",
       "           'anyway',\n",
       "           'anywhere',\n",
       "           'are',\n",
       "           'around',\n",
       "           'as',\n",
       "           'at',\n",
       "           'back',\n",
       "           'be',\n",
       "           'became',\n",
       "           'because',\n",
       "           'become',\n",
       "           'becomes',\n",
       "           'becoming',\n",
       "           'been',\n",
       "           'before',\n",
       "           'beforehand',\n",
       "           'behind',\n",
       "           'being',\n",
       "           'below',\n",
       "           'beside',\n",
       "           'besides',\n",
       "           'between',\n",
       "           'beyond',\n",
       "           'bill',\n",
       "           'both',\n",
       "           'bottom',\n",
       "           'but',\n",
       "           'by',\n",
       "           'call',\n",
       "           'can',\n",
       "           'cannot',\n",
       "           'cant',\n",
       "           'co',\n",
       "           'con',\n",
       "           'could',\n",
       "           'couldnt',\n",
       "           'cry',\n",
       "           'de',\n",
       "           'describe',\n",
       "           'detail',\n",
       "           'do',\n",
       "           'done',\n",
       "           'down',\n",
       "           'due',\n",
       "           'during',\n",
       "           'each',\n",
       "           'eg',\n",
       "           'eight',\n",
       "           'either',\n",
       "           'eleven',\n",
       "           'else',\n",
       "           'elsewhere',\n",
       "           'empty',\n",
       "           'enough',\n",
       "           'etc',\n",
       "           'even',\n",
       "           'ever',\n",
       "           'every',\n",
       "           'everyone',\n",
       "           'everything',\n",
       "           'everywhere',\n",
       "           'except',\n",
       "           'few',\n",
       "           'fifteen',\n",
       "           'fifty',\n",
       "           'fill',\n",
       "           'find',\n",
       "           'fire',\n",
       "           'first',\n",
       "           'five',\n",
       "           'for',\n",
       "           'former',\n",
       "           'formerly',\n",
       "           'forty',\n",
       "           'found',\n",
       "           'four',\n",
       "           'from',\n",
       "           'front',\n",
       "           'full',\n",
       "           'further',\n",
       "           'get',\n",
       "           'give',\n",
       "           'go',\n",
       "           'had',\n",
       "           'has',\n",
       "           'hasnt',\n",
       "           'have',\n",
       "           'he',\n",
       "           'hence',\n",
       "           'her',\n",
       "           'here',\n",
       "           'hereafter',\n",
       "           'hereby',\n",
       "           'herein',\n",
       "           'hereupon',\n",
       "           'hers',\n",
       "           'herself',\n",
       "           'him',\n",
       "           'himself',\n",
       "           'his',\n",
       "           'how',\n",
       "           'however',\n",
       "           'hundred',\n",
       "           'i',\n",
       "           'ie',\n",
       "           'if',\n",
       "           'in',\n",
       "           'inc',\n",
       "           'indeed',\n",
       "           'interest',\n",
       "           'into',\n",
       "           'is',\n",
       "           'it',\n",
       "           'its',\n",
       "           'itself',\n",
       "           'keep',\n",
       "           'last',\n",
       "           'latter',\n",
       "           'latterly',\n",
       "           'least',\n",
       "           'less',\n",
       "           'ltd',\n",
       "           'made',\n",
       "           'many',\n",
       "           'may',\n",
       "           'me',\n",
       "           'meanwhile',\n",
       "           'might',\n",
       "           'mill',\n",
       "           'mine',\n",
       "           'more',\n",
       "           'moreover',\n",
       "           'most',\n",
       "           'mostly',\n",
       "           'move',\n",
       "           'much',\n",
       "           'must',\n",
       "           'my',\n",
       "           'myself',\n",
       "           'name',\n",
       "           'namely',\n",
       "           'neither',\n",
       "           'never',\n",
       "           'nevertheless',\n",
       "           'next',\n",
       "           'nine',\n",
       "           'no',\n",
       "           'nobody',\n",
       "           'none',\n",
       "           'noone',\n",
       "           'nor',\n",
       "           'not',\n",
       "           'nothing',\n",
       "           'now',\n",
       "           'nowhere',\n",
       "           'of',\n",
       "           'off',\n",
       "           'often',\n",
       "           'on',\n",
       "           'once',\n",
       "           'one',\n",
       "           'only',\n",
       "           'onto',\n",
       "           'or',\n",
       "           'other',\n",
       "           'others',\n",
       "           'otherwise',\n",
       "           'our',\n",
       "           'ours',\n",
       "           'ourselves',\n",
       "           'out',\n",
       "           'over',\n",
       "           'own',\n",
       "           'part',\n",
       "           'per',\n",
       "           'perhaps',\n",
       "           'please',\n",
       "           'put',\n",
       "           'rather',\n",
       "           're',\n",
       "           'same',\n",
       "           'see',\n",
       "           'seem',\n",
       "           'seemed',\n",
       "           'seeming',\n",
       "           'seems',\n",
       "           'serious',\n",
       "           'several',\n",
       "           'she',\n",
       "           'should',\n",
       "           'show',\n",
       "           'side',\n",
       "           'since',\n",
       "           'sincere',\n",
       "           'six',\n",
       "           'sixty',\n",
       "           'so',\n",
       "           'some',\n",
       "           'somehow',\n",
       "           'someone',\n",
       "           'something',\n",
       "           'sometime',\n",
       "           'sometimes',\n",
       "           'somewhere',\n",
       "           'still',\n",
       "           'such',\n",
       "           'system',\n",
       "           'take',\n",
       "           'ten',\n",
       "           'than',\n",
       "           'that',\n",
       "           'the',\n",
       "           'their',\n",
       "           'them',\n",
       "           'themselves',\n",
       "           'then',\n",
       "           'thence',\n",
       "           'there',\n",
       "           'thereafter',\n",
       "           'thereby',\n",
       "           'therefore',\n",
       "           'therein',\n",
       "           'thereupon',\n",
       "           'these',\n",
       "           'they',\n",
       "           'thick',\n",
       "           'thin',\n",
       "           'third',\n",
       "           'this',\n",
       "           'those',\n",
       "           'though',\n",
       "           'three',\n",
       "           'through',\n",
       "           'throughout',\n",
       "           'thru',\n",
       "           'thus',\n",
       "           'to',\n",
       "           'together',\n",
       "           'too',\n",
       "           'top',\n",
       "           'toward',\n",
       "           'towards',\n",
       "           'twelve',\n",
       "           'twenty',\n",
       "           'two',\n",
       "           'un',\n",
       "           'under',\n",
       "           'until',\n",
       "           'up',\n",
       "           'upon',\n",
       "           'us',\n",
       "           'very',\n",
       "           'via',\n",
       "           'was',\n",
       "           'we',\n",
       "           'well',\n",
       "           'were',\n",
       "           'what',\n",
       "           'whatever',\n",
       "           'when',\n",
       "           'whence',\n",
       "           'whenever',\n",
       "           'where',\n",
       "           'whereafter',\n",
       "           'whereas',\n",
       "           'whereby',\n",
       "           'wherein',\n",
       "           'whereupon',\n",
       "           'wherever',\n",
       "           'whether',\n",
       "           'which',\n",
       "           'while',\n",
       "           'whither',\n",
       "           'who',\n",
       "           'whoever',\n",
       "           'whole',\n",
       "           'whom',\n",
       "           'whose',\n",
       "           'why',\n",
       "           'will',\n",
       "           'with',\n",
       "           'within',\n",
       "           'without',\n",
       "           'would',\n",
       "           'yet',\n",
       "           'you',\n",
       "           'your',\n",
       "           'yours',\n",
       "           'yourself',\n",
       "           'yourselves'})"
      ]
     },
     "execution_count": 42,
     "metadata": {},
     "output_type": "execute_result"
    }
   ],
   "source": [
    "# import sklearn.feature_extraction.text as skt\n",
    "\n",
    "# #dir(skt)\n",
    "# skt.ENGLISH_STOP_WORDS"
   ]
  },
  {
   "cell_type": "code",
   "execution_count": 24,
   "metadata": {},
   "outputs": [],
   "source": [
    "tfidf_vectors = vectorizer.fit_transform(df['description'].values.astype('U'))"
   ]
  },
  {
   "cell_type": "code",
   "execution_count": 13,
   "metadata": {
    "collapsed": true
   },
   "outputs": [
    {
     "data": {
      "text/plain": [
       "['10',\n",
       " 'abilities',\n",
       " 'able',\n",
       " 'access',\n",
       " 'accordance',\n",
       " 'account',\n",
       " 'accounting',\n",
       " 'accounts',\n",
       " 'accurate',\n",
       " 'achieve',\n",
       " 'act',\n",
       " 'action',\n",
       " 'actively',\n",
       " 'activities',\n",
       " 'ad',\n",
       " 'additional',\n",
       " 'administration',\n",
       " 'administrative',\n",
       " 'advanced',\n",
       " 'age',\n",
       " 'america',\n",
       " 'analysis',\n",
       " 'analytical',\n",
       " 'analytics',\n",
       " 'analyze',\n",
       " 'annual',\n",
       " 'applicable',\n",
       " 'applicants',\n",
       " 'application',\n",
       " 'applications',\n",
       " 'apply',\n",
       " 'approach',\n",
       " 'appropriate',\n",
       " 'area',\n",
       " 'areas',\n",
       " 'aspects',\n",
       " 'asset',\n",
       " 'assets',\n",
       " 'assigned',\n",
       " 'assist',\n",
       " 'assistant',\n",
       " 'associate',\n",
       " 'associates',\n",
       " 'attention',\n",
       " 'audit',\n",
       " 'available',\n",
       " 'bachelor',\n",
       " 'background',\n",
       " 'bank',\n",
       " 'banking',\n",
       " 'based',\n",
       " 'basic',\n",
       " 'basis',\n",
       " 'benefits',\n",
       " 'best',\n",
       " 'branch',\n",
       " 'brand',\n",
       " 'brands',\n",
       " 'budget',\n",
       " 'build',\n",
       " 'building',\n",
       " 'businesses',\n",
       " 'candidate',\n",
       " 'candidates',\n",
       " 'capital',\n",
       " 'care',\n",
       " 'career',\n",
       " 'cash',\n",
       " 'center',\n",
       " 'change',\n",
       " 'changes',\n",
       " 'chase',\n",
       " 'class',\n",
       " 'client',\n",
       " 'clients',\n",
       " 'clinical',\n",
       " 'closely',\n",
       " 'coaching',\n",
       " 'college',\n",
       " 'color',\n",
       " 'com',\n",
       " 'commercial',\n",
       " 'committed',\n",
       " 'communicate',\n",
       " 'communications',\n",
       " 'community',\n",
       " 'companies',\n",
       " 'company',\n",
       " 'competitive',\n",
       " 'complete',\n",
       " 'complex',\n",
       " 'compliance',\n",
       " 'comprehensive',\n",
       " 'computer',\n",
       " 'conduct',\n",
       " 'consistent',\n",
       " 'consumer',\n",
       " 'contact',\n",
       " 'content',\n",
       " 'control']"
      ]
     },
     "execution_count": 13,
     "metadata": {},
     "output_type": "execute_result"
    }
   ],
   "source": [
    "vectorizer.get_feature_names()[0:100]"
   ]
  },
  {
   "cell_type": "code",
   "execution_count": 17,
   "metadata": {},
   "outputs": [],
   "source": [
    "# Helpers for finding the row a string appears\n",
    "# search = df['description'].str.contains('0571')\n",
    "# search[search == True]\n",
    "# df.iloc[26806]['description']"
   ]
  },
  {
   "cell_type": "markdown",
   "metadata": {},
   "source": [
    "### Build K Means on TF-IDF Vector\n",
    "\n",
    "##### Some working notes\n",
    "- Is SSE a good measure in this case?\n",
    "    - https://upcommons.upc.edu/bitstream/handle/2117/23414/R13-8.pdf\n",
    "        - > \"From the experiments, a first conclusion is that to use the sum of square euclidean distances to the centroids to compare the quality of partitions from k-means and mini batch k-means as proposed in [11] is not adequate.\"\n",
    "    - We really care more about label accuracy than centroid distance\n",
    "- Quality difference between kmeans and kmeans minibatch\n",
    "- tokenizer/lemmatization\n",
    "- GloVe"
   ]
  },
  {
   "cell_type": "code",
   "execution_count": 41,
   "metadata": {
    "scrolled": false
   },
   "outputs": [
    {
     "name": "stdout",
     "output_type": "stream",
     "text": [
      "Fit 2 clusters\n",
      "Fit 4 clusters\n",
      "Fit 6 clusters\n",
      "Fit 8 clusters\n",
      "Fit 10 clusters\n",
      "Fit 12 clusters\n",
      "Fit 14 clusters\n",
      "Fit 16 clusters\n",
      "Fit 18 clusters\n",
      "Fit 20 clusters\n",
      "Fit 22 clusters\n",
      "Fit 24 clusters\n",
      "Fit 26 clusters\n",
      "Fit 28 clusters\n",
      "Fit 30 clusters\n",
      "Fit 32 clusters\n",
      "Fit 34 clusters\n",
      "Fit 36 clusters\n",
      "Fit 38 clusters\n"
     ]
    },
    {
     "data": {
      "image/png": "[encoded data removed]",
      "text/plain": [
       "<Figure size 432x288 with 1 Axes>"
      ]
     },
     "metadata": {
      "needs_background": "light"
     },
     "output_type": "display_data"
    }
   ],
   "source": [
    "def parameter_search_k_means_sse(vectors, max_k=40):\n",
    "    \"\"\"\n",
    "        Iterate k from 2 to max_k by 2 and measure SSE. \n",
    "    \"\"\"    \n",
    "    iters = range(2, max_k, 2)\n",
    "\n",
    "    sse = []\n",
    "    for k in iters:\n",
    "        sse.append(\n",
    "            MiniBatchKMeans(n_clusters=k, \n",
    "                            init_size=1024, \n",
    "                            batch_size=2048).fit(vectors).inertia_)\n",
    "        \n",
    "        print('Fit {} clusters'.format(k))\n",
    "\n",
    "    f, ax = plt.subplots(1, 1)\n",
    "    ax.plot(iters, sse, marker='o')\n",
    "    ax.set_xlabel('Cluster Centers')\n",
    "    ax.set_xticks(iters)\n",
    "    ax.set_xticklabels(iters)\n",
    "    ax.set_ylabel('SSE')\n",
    "\n",
    "parameter_search_k_means_sse(tfidf_vectors)"
   ]
  },
  {
   "cell_type": "code",
   "execution_count": null,
   "metadata": {},
   "outputs": [],
   "source": [
    "def build_test_set():\n",
    "    companies = df.groupby(by='company')\n",
    "    companies.get_group('Goldman Sachs')\n",
    "\n",
    "def cross_validate(vectors, max_k=40):\n",
    "    from sklearn.model_selection import cross_val_score\n",
    "    \n",
    "    \n",
    "    \n",
    "    MiniBatchKMeans(n_clusters=k, \n",
    "                            init_size=1024, \n",
    "                            batch_size=2048).fit(vectors).inertia_)\n",
    "    \n",
    "    scores = cross_val_score(clf, X, y, cv=5)"
   ]
  },
  {
   "cell_type": "code",
   "execution_count": 28,
   "metadata": {},
   "outputs": [],
   "source": [
    "# Pick a cluster number and fit the matrix\n",
    "clusters = MiniBatchKMeans(n_clusters=36, init_size=1024, batch_size=2048, random_state=20).fit_predict(tfidf_vectors)"
   ]
  },
  {
   "cell_type": "code",
   "execution_count": 30,
   "metadata": {},
   "outputs": [
    {
     "data": {
      "image/png": "[encoded data removed]",
      "text/plain": [
       "<Figure size 1008x432 with 2 Axes>"
      ]
     },
     "metadata": {
      "needs_background": "light"
     },
     "output_type": "display_data"
    }
   ],
   "source": [
    "def plot_tsne_pca(vectors, labels):\n",
    "    max_label = max(labels)\n",
    "    max_items = np.random.choice(range(vectors.shape[0]), size=3000, replace=False)\n",
    "    \n",
    "    pca = PCA(n_components=2).fit_transform(vectors[max_items,:].todense())\n",
    "    tsne = TSNE().fit_transform(PCA(n_components=50).fit_transform(vectors[max_items,:].todense()))\n",
    "    \n",
    "    \n",
    "    idx = np.random.choice(range(pca.shape[0]), size=300, replace=False)\n",
    "    label_subset = labels[max_items]\n",
    "    label_subset = [cm.hsv(i/max_label) for i in label_subset[idx]]\n",
    "    \n",
    "    f, ax = plt.subplots(1, 2, figsize=(14, 6))\n",
    "    \n",
    "    ax[0].scatter(pca[idx, 0], pca[idx, 1], c=label_subset)\n",
    "    ax[0].set_title('PCA Cluster Plot')\n",
    "    \n",
    "    ax[1].scatter(tsne[idx, 0], tsne[idx, 1], c=label_subset)\n",
    "    ax[1].set_title('TSNE Cluster Plot')\n",
    "    \n",
    "plot_tsne_pca(tfidf_vectors, clusters)"
   ]
  },
  {
   "cell_type": "code",
   "execution_count": 34,
   "metadata": {},
   "outputs": [
    {
     "name": "stdout",
     "output_type": "stream",
     "text": [
      "\n",
      "Cluster 0\n",
      "process,teams,leadership,develop,key,research,global,strategy,development,strategic\n",
      "\n",
      "Cluster 1\n",
      "administrative,equipment,position,time,office,able,duties,customer,job,service\n",
      "\n",
      "Cluster 2\n",
      "quality,director,services,staff,state,medical,clinical,health,patient,care\n",
      "\n",
      "Cluster 3\n",
      "disability,religion,color,national,origin,race,employment,gender,protected,status\n",
      "\n",
      "Cluster 4\n",
      "market,products,retail,marketing,sales,development,brand,fashion,merchandising,product\n",
      "\n",
      "Cluster 5\n",
      "value,plan,offer,company,ll,associate,safety,great,store,associates\n",
      "\n",
      "Cluster 6\n",
      "financial,regulatory,help,transactions,chase,ll,customer,customers,banking,branch\n",
      "\n",
      "Cluster 7\n",
      "online,entertainment,social,mobile,million,sales,marketing,content,media,digital\n",
      "\n",
      "Cluster 8\n",
      "assist,fashion,customers,training,growth,manager,assistant,ll,associates,store\n",
      "\n",
      "Cluster 9\n",
      "creative,com,news,video,platforms,marketing,digital,content,social,media\n",
      "\n",
      "Cluster 10\n",
      "drive,service,fashion,merchandising,visual,brand,customer,retail,sales,store\n",
      "\n",
      "Cluster 11\n",
      "process,reports,prepare,review,monthly,analysis,reporting,finance,financial,accounting\n",
      "\n",
      "Cluster 12\n",
      "services,global,wealth,client,banking,firm,clients,financial,morgan,investment\n",
      "\n",
      "Cluster 13\n",
      "hours,technical,world,design,quality,web,development,software,testing,test\n",
      "\n",
      "Cluster 14\n",
      "summary,word,processing,industry,background,service,duties,financial,morgan,client\n",
      "\n",
      "Cluster 15\n",
      "digital,production,company,video,world,information,content,media,television,news\n",
      "\n",
      "Cluster 16\n",
      "position,services,company,solutions,customer,time,products,customers,training,sales\n",
      "\n",
      "Cluster 17\n",
      "projects,technical,create,production,fashion,development,product,brand,creative,design\n",
      "\n",
      "Cluster 18\n",
      "customer,service,training,customers,guidelines,product,duties,job,standards,standard\n",
      "\n",
      "Cluster 19\n",
      "requirements,stakeholders,process,delivery,manage,technology,development,program,projects,project\n",
      "\n",
      "Cluster 20\n",
      "resources,education,employee,staff,development,program,programs,director,university,hr\n",
      "\n",
      "Cluster 21\n",
      "content,social,product,strategy,sales,media,creative,digital,brand,marketing\n",
      "\n",
      "Cluster 22\n",
      "relationship,banking,investment,branch,services,sales,service,financial,clients,client\n",
      "\n",
      "Cluster 23\n",
      "america,million,financial,job,customer,banking,branch,customers,bank,td\n",
      "\n",
      "Cluster 24\n",
      "research,information,development,technology,systems,tools,reporting,analysis,analytics,data\n",
      "\n",
      "Cluster 25\n",
      "goals,services,products,bank,needs,sales,financial,service,customers,customer\n",
      "\n",
      "Cluster 26\n",
      "analysis,regulatory,reporting,market,model,financial,control,firm,credit,risk\n",
      "\n",
      "Cluster 27\n",
      "portfolio,banking,commercial,lending,bank,financial,risk,mortgage,loan,credit\n",
      "\n",
      "Cluster 28\n",
      "writing,content,digital,entertainment,production,network,media,news,television,tv\n",
      "\n",
      "Cluster 29\n",
      "application,global,services,technical,network,risk,technology,systems,information,security\n",
      "\n",
      "Cluster 30\n",
      "market,clients,customer,client,accounts,marketing,new,revenue,account,sales\n",
      "\n",
      "Cluster 31\n",
      "live,projects,programming,technical,entertainment,content,television,video,creative,production\n",
      "\n",
      "Cluster 32\n",
      "operational,issues,ensure,controls,internal,control,regulatory,risk,audit,compliance\n",
      "\n",
      "Cluster 33\n",
      "technologies,engineering,applications,design,application,software,systems,development,technology,technical\n",
      "\n",
      "Cluster 34\n",
      "banking,position,employment,act,financial,mortgage,customers,branch,jpmorgan,chase\n",
      "\n",
      "Cluster 35\n",
      "standards,retail,company,merchandising,customer,associates,merchandise,sales,manager,store\n"
     ]
    }
   ],
   "source": [
    "def get_top_keywords(vectors, clusters, labels, n_terms):\n",
    "    df = pd.DataFrame(vectors.todense()).groupby(clusters).mean()\n",
    "    \n",
    "    for i,r in df.iterrows():\n",
    "        print('\\nCluster {}'.format(i))\n",
    "        print(','.join([labels[t] for t in np.argsort(r)[-n_terms:]]))\n",
    "            \n",
    "get_top_keywords(tfidf_vectors, clusters, vectorizer.get_feature_names(), 10)"
   ]
  },
  {
   "cell_type": "code",
   "execution_count": 47,
   "metadata": {},
   "outputs": [],
   "source": [
    "model = KMeans(n_clusters=6, max_iter=300, n_init=10)\n",
    "model.fit(tfidf_vectors)\n",
    "\n",
    "df['cluster'] = model.labels_"
   ]
  },
  {
   "cell_type": "code",
   "execution_count": 50,
   "metadata": {},
   "outputs": [],
   "source": [
    "clusters = df.groupby(by='cluster')\n",
    "companies = df.groupby(by='company')"
   ]
  },
  {
   "cell_type": "code",
   "execution_count": 51,
   "metadata": {},
   "outputs": [
    {
     "data": {
      "text/plain": [
       "4    1606\n",
       "0     233\n",
       "5      28\n",
       "1       1\n",
       "Name: cluster, dtype: int64"
      ]
     },
     "execution_count": 51,
     "metadata": {},
     "output_type": "execute_result"
    }
   ],
   "source": [
    "companies.get_group('Goldman Sachs')['cluster'].value_counts()"
   ]
  },
  {
   "cell_type": "code",
   "execution_count": 61,
   "metadata": {},
   "outputs": [
    {
     "data": {
      "text/plain": [
       "1    2605\n",
       "4     722\n",
       "0     226\n",
       "5       1\n",
       "Name: cluster, dtype: int64"
      ]
     },
     "execution_count": 61,
     "metadata": {},
     "output_type": "execute_result"
    }
   ],
   "source": [
    "companies.get_group('Bank of America')['cluster'].value_counts()\n",
    "# Citigroup                            7762\n",
    "# Morgan Stanley                       4042\n",
    "# Bank of America"
   ]
  },
  {
   "cell_type": "code",
   "execution_count": 53,
   "metadata": {},
   "outputs": [
    {
     "data": {
      "text/plain": [
       "0    1134\n",
       "5     130\n",
       "1      91\n",
       "3      19\n",
       "2       8\n",
       "4       3\n",
       "Name: cluster, dtype: int64"
      ]
     },
     "execution_count": 53,
     "metadata": {},
     "output_type": "execute_result"
    }
   ],
   "source": [
    "companies.get_group('Time Warner Cable')['cluster'].value_counts()"
   ]
  },
  {
   "cell_type": "code",
   "execution_count": 57,
   "metadata": {},
   "outputs": [
    {
     "data": {
      "text/plain": [
       "0    63856\n",
       "4    30404\n",
       "5    22275\n",
       "1    13975\n",
       "3    12824\n",
       "2     7335\n",
       "Name: cluster, dtype: int64"
      ]
     },
     "execution_count": 57,
     "metadata": {},
     "output_type": "execute_result"
    }
   ],
   "source": [
    "df['cluster'].value_counts()"
   ]
  },
  {
   "cell_type": "code",
   "execution_count": 63,
   "metadata": {},
   "outputs": [],
   "source": [
    "df.loc[(df['cluster'] == 1) | (df['cluster'] == 4)].to_csv('large_finance_only_postings.csv')"
   ]
  }
 ],
 "metadata": {
  "kernelspec": {
   "display_name": "Python 3",
   "language": "python",
   "name": "python3"
  },
  "language_info": {
   "codemirror_mode": {
    "name": "ipython",
    "version": 3
   },
   "file_extension": ".py",
   "mimetype": "text/x-python",
   "name": "python",
   "nbconvert_exporter": "python",
   "pygments_lexer": "ipython3",
   "version": "3.9.1"
  }
 },
 "nbformat": 4,
 "nbformat_minor": 4
}
